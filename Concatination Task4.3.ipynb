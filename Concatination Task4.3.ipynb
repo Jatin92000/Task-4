{
 "cells": [
  {
   "cell_type": "code",
   "execution_count": 1,
   "id": "78cef2bb",
   "metadata": {},
   "outputs": [],
   "source": [
    "import cv2"
   ]
  },
  {
   "cell_type": "code",
   "execution_count": 2,
   "id": "145f0360",
   "metadata": {},
   "outputs": [],
   "source": [
    "image1 = cv2.imread(\"image1.jpg\")\n",
    "image2 = cv2.imread(\"image2.jpg\")"
   ]
  },
  {
   "cell_type": "code",
   "execution_count": 6,
   "id": "6a33a7c2",
   "metadata": {},
   "outputs": [],
   "source": [
    "image1_resize = cv2.resize(image1,(500,500))\n",
    "image2_resize = cv2.resize(image2,(500,500))"
   ]
  },
  {
   "cell_type": "code",
   "execution_count": 7,
   "id": "e3e2b905",
   "metadata": {},
   "outputs": [],
   "source": [
    "h_concat = cv2.hconcat([image2_resize , image1_resize])\n",
    "cv2.imshow(\"concate\",h_concat)\n",
    "cv2.waitKey()\n",
    "cv2.destroyAllWindows()"
   ]
  },
  {
   "cell_type": "code",
   "execution_count": 5,
   "id": "262c139f",
   "metadata": {},
   "outputs": [],
   "source": [
    "v_concat = cv2.vconcat([image2_resize , image1_resize])\n",
    "cv2.imshow(\"concate\",v_concat)\n",
    "cv2.waitKey()\n",
    "cv2.destroyAllWindows()"
   ]
  },
  {
   "cell_type": "code",
   "execution_count": null,
   "id": "14751840",
   "metadata": {},
   "outputs": [],
   "source": []
  }
 ],
 "metadata": {
  "kernelspec": {
   "display_name": "Python 3",
   "language": "python",
   "name": "python3"
  },
  "language_info": {
   "codemirror_mode": {
    "name": "ipython",
    "version": 3
   },
   "file_extension": ".py",
   "mimetype": "text/x-python",
   "name": "python",
   "nbconvert_exporter": "python",
   "pygments_lexer": "ipython3",
   "version": "3.8.8"
  }
 },
 "nbformat": 4,
 "nbformat_minor": 5
}
