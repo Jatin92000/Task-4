{
 "cells": [
  {
   "cell_type": "code",
   "execution_count": 1,
   "id": "4ae4c2fe",
   "metadata": {},
   "outputs": [],
   "source": [
    "import numpy , cv2\n",
    "image1 = cv2.imread(\"image1.jpg\")\n",
    "image2= cv2.imread(\"image2.jpg\")"
   ]
  },
  {
   "cell_type": "code",
   "execution_count": 2,
   "id": "386b0236",
   "metadata": {},
   "outputs": [],
   "source": [
    "cv2.imshow(\"image1\",image1)\n",
    "cv2.waitKey()\n",
    "cv2.destroyAllWindows()"
   ]
  },
  {
   "cell_type": "code",
   "execution_count": 3,
   "id": "5e1af324",
   "metadata": {},
   "outputs": [],
   "source": [
    "cv2.imshow(\"image2\",image2)\n",
    "cv2.waitKey()\n",
    "cv2.destroyAllWindows()"
   ]
  },
  {
   "cell_type": "code",
   "execution_count": 4,
   "id": "bd888144",
   "metadata": {},
   "outputs": [
    {
     "data": {
      "text/plain": [
       "(751, 1000, 3)"
      ]
     },
     "execution_count": 4,
     "metadata": {},
     "output_type": "execute_result"
    }
   ],
   "source": [
    "image1.shape"
   ]
  },
  {
   "cell_type": "code",
   "execution_count": 5,
   "id": "f0584cb1",
   "metadata": {},
   "outputs": [
    {
     "data": {
      "text/plain": [
       "(1184, 1600, 3)"
      ]
     },
     "execution_count": 5,
     "metadata": {},
     "output_type": "execute_result"
    }
   ],
   "source": [
    "image2.shape"
   ]
  },
  {
   "cell_type": "code",
   "execution_count": 9,
   "id": "e525474c",
   "metadata": {},
   "outputs": [],
   "source": [
    "#swapping\n",
    "image1_crop = image1[50:270,150:420]\n",
    "image2[50:270,150:420] = image1_crop\n",
    "cv2.imshow(\"new\",image2)\n",
    "cv2.waitKey()\n",
    "cv2.destroyAllWindows()"
   ]
  },
  {
   "cell_type": "code",
   "execution_count": 10,
   "id": "9efc638f",
   "metadata": {},
   "outputs": [],
   "source": [
    "image1 = cv2.imread(\"image1.jpg\")\n",
    "image2= cv2.imread(\"image2.jpg\")"
   ]
  },
  {
   "cell_type": "code",
   "execution_count": 11,
   "id": "6c4d5f53",
   "metadata": {},
   "outputs": [],
   "source": [
    "#swapping\n",
    "image2_crop = image2[50:270,150:420]\n",
    "image1[50:270,150:420] = image2_crop\n",
    "cv2.imshow(\"new\",image1)\n",
    "cv2.waitKey()\n",
    "cv2.destroyAllWindows()"
   ]
  },
  {
   "cell_type": "code",
   "execution_count": null,
   "id": "9910f7c3",
   "metadata": {},
   "outputs": [],
   "source": []
  }
 ],
 "metadata": {
  "kernelspec": {
   "display_name": "Python 3",
   "language": "python",
   "name": "python3"
  },
  "language_info": {
   "codemirror_mode": {
    "name": "ipython",
    "version": 3
   },
   "file_extension": ".py",
   "mimetype": "text/x-python",
   "name": "python",
   "nbconvert_exporter": "python",
   "pygments_lexer": "ipython3",
   "version": "3.8.8"
  }
 },
 "nbformat": 4,
 "nbformat_minor": 5
}
